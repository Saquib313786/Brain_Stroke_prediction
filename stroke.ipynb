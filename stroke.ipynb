{
  "cells": [
    {
      "cell_type": "code",
      "execution_count": null,
      "metadata": {
        "id": "43Yg7X-md30a"
      },
      "outputs": [
        {
          "ename": "",
          "evalue": "",
          "output_type": "error",
          "traceback": [
            "\u001b[1;31mFailed to start the Kernel. \n",
            "\u001b[1;31mCannot read properties of undefined (reading 'path'). \n",
            "\u001b[1;31mView Jupyter <a href='command:jupyter.viewOutput'>log</a> for further details."
          ]
        }
      ],
      "source": [
        "import numpy as np\n",
        "import pandas as pd\n",
        "import matplotlib.pyplot as plt\n",
        "import seaborn as sns\n",
        "import plotly.express as px\n",
        "\n",
        "from sklearn.metrics import accuracy_score,confusion_matrix,roc_auc_score,ConfusionMatrixDisplay,precision_score,recall_score,f1_score,classification_report,roc_curve,RocCurveDisplay,auc,precision_recall_curve,precision_recall_curve,average_precision_score\n",
        "from sklearn.model_selection import cross_val_score\n",
        "from sklearn.model_selection import train_test_split"
      ]
    },
    {
      "cell_type": "code",
      "execution_count": null,
      "metadata": {
        "id": "3AYTiYebfZKe"
      },
      "outputs": [
        {
          "ename": "",
          "evalue": "",
          "output_type": "error",
          "traceback": [
            "\u001b[1;31mFailed to start the Kernel. \n",
            "\u001b[1;31mCannot read properties of undefined (reading 'path'). \n",
            "\u001b[1;31mView Jupyter <a href='command:jupyter.viewOutput'>log</a> for further details."
          ]
        }
      ],
      "source": [
        "df = pd.read_csv('/content/drive/MyDrive/Stroke/healthcare-dataset-stroke-data.csv')"
      ]
    },
    {
      "cell_type": "code",
      "execution_count": null,
      "metadata": {
        "colab": {
          "base_uri": "https://localhost:8080/",
          "height": 260
        },
        "id": "or9a24HRfj7e",
        "outputId": "fed3bc85-a979-4932-9d8b-c7bd4d79ccb0"
      },
      "outputs": [
        {
          "ename": "",
          "evalue": "",
          "output_type": "error",
          "traceback": [
            "\u001b[1;31mFailed to start the Kernel. \n",
            "\u001b[1;31mCannot read properties of undefined (reading 'path'). \n",
            "\u001b[1;31mView Jupyter <a href='command:jupyter.viewOutput'>log</a> for further details."
          ]
        }
      ],
      "source": [
        "df.head()"
      ]
    },
    {
      "cell_type": "code",
      "execution_count": null,
      "metadata": {
        "colab": {
          "base_uri": "https://localhost:8080/",
          "height": 243
        },
        "id": "sG-i-KVqfoeg",
        "outputId": "141f4890-6957-4d20-adb3-d9aeec551e29"
      },
      "outputs": [
        {
          "ename": "",
          "evalue": "",
          "output_type": "error",
          "traceback": [
            "\u001b[1;31mFailed to start the Kernel. \n",
            "\u001b[1;31mCannot read properties of undefined (reading 'path'). \n",
            "\u001b[1;31mView Jupyter <a href='command:jupyter.viewOutput'>log</a> for further details."
          ]
        }
      ],
      "source": [
        "df.sample(5)"
      ]
    },
    {
      "cell_type": "code",
      "execution_count": null,
      "metadata": {
        "colab": {
          "base_uri": "https://localhost:8080/"
        },
        "id": "Vt_EYudoft4s",
        "outputId": "2beac501-41c6-43b2-89f7-51454863bc29"
      },
      "outputs": [
        {
          "ename": "",
          "evalue": "",
          "output_type": "error",
          "traceback": [
            "\u001b[1;31mFailed to start the Kernel. \n",
            "\u001b[1;31mCannot read properties of undefined (reading 'path'). \n",
            "\u001b[1;31mView Jupyter <a href='command:jupyter.viewOutput'>log</a> for further details."
          ]
        }
      ],
      "source": [
        "df.info()"
      ]
    },
    {
      "cell_type": "code",
      "execution_count": null,
      "metadata": {
        "colab": {
          "base_uri": "https://localhost:8080/",
          "height": 300
        },
        "id": "CO7rJSlef1CS",
        "outputId": "6bdcd1e2-73b2-4e13-a65a-30b7d65e07e9"
      },
      "outputs": [
        {
          "ename": "",
          "evalue": "",
          "output_type": "error",
          "traceback": [
            "\u001b[1;31mFailed to start the Kernel. \n",
            "\u001b[1;31mCannot read properties of undefined (reading 'path'). \n",
            "\u001b[1;31mView Jupyter <a href='command:jupyter.viewOutput'>log</a> for further details."
          ]
        }
      ],
      "source": [
        "df.describe()"
      ]
    },
    {
      "cell_type": "code",
      "execution_count": null,
      "metadata": {
        "id": "voW_hDCTf7wM"
      },
      "outputs": [
        {
          "ename": "",
          "evalue": "",
          "output_type": "error",
          "traceback": [
            "\u001b[1;31mFailed to start the Kernel. \n",
            "\u001b[1;31mCannot read properties of undefined (reading 'path'). \n",
            "\u001b[1;31mView Jupyter <a href='command:jupyter.viewOutput'>log</a> for further details."
          ]
        }
      ],
      "source": [
        "df.drop(['id'],axis=1,inplace = True)"
      ]
    },
    {
      "cell_type": "code",
      "execution_count": null,
      "metadata": {
        "id": "C4QsIP4cgAU7"
      },
      "outputs": [
        {
          "ename": "",
          "evalue": "",
          "output_type": "error",
          "traceback": [
            "\u001b[1;31mFailed to start the Kernel. \n",
            "\u001b[1;31mCannot read properties of undefined (reading 'path'). \n",
            "\u001b[1;31mView Jupyter <a href='command:jupyter.viewOutput'>log</a> for further details."
          ]
        }
      ],
      "source": [
        "df.drop_duplicates(inplace=True)"
      ]
    },
    {
      "cell_type": "code",
      "execution_count": null,
      "metadata": {
        "colab": {
          "base_uri": "https://localhost:8080/"
        },
        "id": "lLlSI5pggD3p",
        "outputId": "3535f0bb-66a2-4cb4-ec7f-8d5a7682a4b5"
      },
      "outputs": [
        {
          "ename": "",
          "evalue": "",
          "output_type": "error",
          "traceback": [
            "\u001b[1;31mFailed to start the Kernel. \n",
            "\u001b[1;31mCannot read properties of undefined (reading 'path'). \n",
            "\u001b[1;31mView Jupyter <a href='command:jupyter.viewOutput'>log</a> for further details."
          ]
        }
      ],
      "source": [
        "df.isnull().sum()"
      ]
    },
    {
      "cell_type": "code",
      "execution_count": null,
      "metadata": {
        "colab": {
          "base_uri": "https://localhost:8080/"
        },
        "id": "18QBRoGYgKXc",
        "outputId": "1de399bc-cfed-4af5-be1c-646f13fdedb2"
      },
      "outputs": [
        {
          "ename": "",
          "evalue": "",
          "output_type": "error",
          "traceback": [
            "\u001b[1;31mFailed to start the Kernel. \n",
            "\u001b[1;31mCannot read properties of undefined (reading 'path'). \n",
            "\u001b[1;31mView Jupyter <a href='command:jupyter.viewOutput'>log</a> for further details."
          ]
        }
      ],
      "source": [
        "df.dropna(inplace=True)\n",
        "\n",
        "df.isnull().sum().sum()"
      ]
    },
    {
      "cell_type": "code",
      "execution_count": null,
      "metadata": {
        "colab": {
          "base_uri": "https://localhost:8080/",
          "height": 412
        },
        "id": "5tlZe1YegPht",
        "outputId": "a585eabb-6e9e-4ad8-d11f-0cf8f47de444"
      },
      "outputs": [
        {
          "ename": "",
          "evalue": "",
          "output_type": "error",
          "traceback": [
            "\u001b[1;31mFailed to start the Kernel. \n",
            "\u001b[1;31mCannot read properties of undefined (reading 'path'). \n",
            "\u001b[1;31mView Jupyter <a href='command:jupyter.viewOutput'>log</a> for further details."
          ]
        }
      ],
      "source": [
        "num_cols = ['age','bmi','avg_glucose_level']\n",
        "\n",
        "plt.figure(figsize=(15, 5))\n",
        "for i in range(3) :\n",
        "    plt.subplot(1,3,i+1)\n",
        "\n",
        "    sns.boxplot(x=df[num_cols[i]],color='#6DA59D')\n",
        "    plt.title(num_cols[i])\n",
        "plt.show()"
      ]
    },
    {
      "cell_type": "code",
      "execution_count": null,
      "metadata": {
        "id": "QB6zU_PbgXTm"
      },
      "outputs": [
        {
          "ename": "",
          "evalue": "",
          "output_type": "error",
          "traceback": [
            "\u001b[1;31mFailed to start the Kernel. \n",
            "\u001b[1;31mCannot read properties of undefined (reading 'path'). \n",
            "\u001b[1;31mView Jupyter <a href='command:jupyter.viewOutput'>log</a> for further details."
          ]
        }
      ],
      "source": [
        "def detect_outliers(data,column):\n",
        "    q1 = df[column].quantile(.25)\n",
        "    q3= df[column].quantile(.75)\n",
        "    IQR = q3-q1\n",
        "\n",
        "    lower_bound = q1 - (1.5*IQR)\n",
        "    upper_bound = q3 + (1.5*IQR)\n",
        "\n",
        "    ls = df.index[(df[column] <lower_bound) | (df[column] > upper_bound)]\n",
        "\n",
        "    return ls"
      ]
    },
    {
      "cell_type": "code",
      "execution_count": null,
      "metadata": {
        "id": "jI7OoFHRgfOD"
      },
      "outputs": [
        {
          "ename": "",
          "evalue": "",
          "output_type": "error",
          "traceback": [
            "\u001b[1;31mFailed to start the Kernel. \n",
            "\u001b[1;31mCannot read properties of undefined (reading 'path'). \n",
            "\u001b[1;31mView Jupyter <a href='command:jupyter.viewOutput'>log</a> for further details."
          ]
        }
      ],
      "source": [
        "index_list = []\n",
        "\n",
        "for column in num_cols:\n",
        "    index_list.extend(detect_outliers(df,column))\n",
        "\n",
        "# remove duplicated indices in the index_list and sort it\n",
        "index_list = sorted(set(index_list))"
      ]
    },
    {
      "cell_type": "code",
      "execution_count": null,
      "metadata": {
        "colab": {
          "base_uri": "https://localhost:8080/"
        },
        "id": "MAijtedOgk2g",
        "outputId": "93ee7502-aed5-43e2-c40b-14a9c3b92ca9"
      },
      "outputs": [
        {
          "ename": "",
          "evalue": "",
          "output_type": "error",
          "traceback": [
            "\u001b[1;31mFailed to start the Kernel. \n",
            "\u001b[1;31mCannot read properties of undefined (reading 'path'). \n",
            "\u001b[1;31mView Jupyter <a href='command:jupyter.viewOutput'>log</a> for further details."
          ]
        }
      ],
      "source": [
        "before_remove = df.shape\n",
        "\n",
        "df =df.drop(index_list)\n",
        "after_remove = df.shape\n",
        "\n",
        "print(f'''Shape of data before removing outliers : {before_remove}\n",
        "Shape of data after remove : {after_remove}''')"
      ]
    },
    {
      "cell_type": "code",
      "execution_count": null,
      "metadata": {
        "colab": {
          "base_uri": "https://localhost:8080/",
          "height": 606
        },
        "id": "nrGGSm9Ugq0-",
        "outputId": "fae7acb4-a6c6-44cf-e854-97a2bfc1b200"
      },
      "outputs": [
        {
          "ename": "",
          "evalue": "",
          "output_type": "error",
          "traceback": [
            "\u001b[1;31mFailed to start the Kernel. \n",
            "\u001b[1;31mCannot read properties of undefined (reading 'path'). \n",
            "\u001b[1;31mView Jupyter <a href='command:jupyter.viewOutput'>log</a> for further details."
          ]
        }
      ],
      "source": [
        "sns.countplot(x=df['gender'],palette='bone')\n",
        "plt.title('Gender of patient ' , size = 14,color = '#1D4B5B')\n",
        "plt.xlabel('Gender',size = 12)"
      ]
    },
    {
      "cell_type": "code",
      "execution_count": null,
      "metadata": {
        "colab": {
          "base_uri": "https://localhost:8080/",
          "height": 490
        },
        "id": "nlqLTgq4g0zE",
        "outputId": "006c7366-5e59-4ef1-c6ce-ee77ec27eb75"
      },
      "outputs": [
        {
          "ename": "",
          "evalue": "",
          "output_type": "error",
          "traceback": [
            "\u001b[1;31mFailed to start the Kernel. \n",
            "\u001b[1;31mCannot read properties of undefined (reading 'path'). \n",
            "\u001b[1;31mView Jupyter <a href='command:jupyter.viewOutput'>log</a> for further details."
          ]
        }
      ],
      "source": [
        "sns.kdeplot(df['age'] , color = '#103846')\n",
        "plt.title('Distribution of patients\\' gender ',color = '#1D4B5B',size = 13 )"
      ]
    },
    {
      "cell_type": "code",
      "execution_count": null,
      "metadata": {
        "colab": {
          "base_uri": "https://localhost:8080/",
          "height": 542
        },
        "id": "VBJ5c7CPg6kK",
        "outputId": "c0de69a1-f87b-4ef4-d348-c543f63f4b8f"
      },
      "outputs": [
        {
          "ename": "",
          "evalue": "",
          "output_type": "error",
          "traceback": [
            "\u001b[1;31mFailed to start the Kernel. \n",
            "\u001b[1;31mCannot read properties of undefined (reading 'path'). \n",
            "\u001b[1;31mView Jupyter <a href='command:jupyter.viewOutput'>log</a> for further details."
          ]
        }
      ],
      "source": [
        "married = dict(df['ever_married'].value_counts())\n",
        "fig = px.pie(names = married.keys(),values = married.values(),title = 'Ever Married',color_discrete_sequence=px.colors.sequential.Aggrnyl)\n",
        "fig.update_traces(textposition='inside', textinfo='percent+label')"
      ]
    },
    {
      "cell_type": "code",
      "execution_count": null,
      "metadata": {
        "colab": {
          "base_uri": "https://localhost:8080/",
          "height": 542
        },
        "id": "3fdi3Q9rOCBj",
        "outputId": "7c559b40-1166-4067-bed3-28df908a7a6d"
      },
      "outputs": [
        {
          "ename": "",
          "evalue": "",
          "output_type": "error",
          "traceback": [
            "\u001b[1;31mFailed to start the Kernel. \n",
            "\u001b[1;31mCannot read properties of undefined (reading 'path'). \n",
            "\u001b[1;31mView Jupyter <a href='command:jupyter.viewOutput'>log</a> for further details."
          ]
        }
      ],
      "source": [
        "h_disease = dict(df['heart_disease'].value_counts())\n",
        "fig = px.pie(names = ['False' , 'True'],values = h_disease.values(),title = 'Had a Heart Disease ',color_discrete_sequence=px.colors.sequential.Aggrnyl)\n",
        "fig.update_traces(textposition='inside', textinfo='percent+label')"
      ]
    },
    {
      "cell_type": "code",
      "execution_count": null,
      "metadata": {
        "colab": {
          "base_uri": "https://localhost:8080/",
          "height": 542
        },
        "id": "MniuZ1HtOSwT",
        "outputId": "beb260b6-922a-4207-a337-9901dab43d75"
      },
      "outputs": [
        {
          "ename": "",
          "evalue": "",
          "output_type": "error",
          "traceback": [
            "\u001b[1;31mFailed to start the Kernel. \n",
            "\u001b[1;31mCannot read properties of undefined (reading 'path'). \n",
            "\u001b[1;31mView Jupyter <a href='command:jupyter.viewOutput'>log</a> for further details."
          ]
        }
      ],
      "source": [
        "hypertension = dict(df['hypertension'].value_counts())\n",
        "fig = px.pie(names =['False','True'],values = hypertension.values(),title = 'Had a Hypertension',color_discrete_sequence=px.colors.sequential.Aggrnyl)\n",
        "fig.update_traces(textposition='inside', textinfo='percent+label')"
      ]
    },
    {
      "cell_type": "code",
      "execution_count": null,
      "metadata": {
        "colab": {
          "base_uri": "https://localhost:8080/",
          "height": 542
        },
        "id": "8mMJ0p00OWMZ",
        "outputId": "187ba752-d640-4936-b640-555fff932c5a"
      },
      "outputs": [
        {
          "ename": "",
          "evalue": "",
          "output_type": "error",
          "traceback": [
            "\u001b[1;31mFailed to start the Kernel. \n",
            "\u001b[1;31mCannot read properties of undefined (reading 'path'). \n",
            "\u001b[1;31mView Jupyter <a href='command:jupyter.viewOutput'>log</a> for further details."
          ]
        }
      ],
      "source": [
        "work_types = dict(df['work_type'].value_counts())\n",
        "fig = px.pie(names = work_types.keys(),values = work_types.values(),title = 'Work Type',color_discrete_sequence=px.colors.sequential.Aggrnyl)\n",
        "fig.update_traces(textposition='inside', textinfo='percent+label')"
      ]
    },
    {
      "cell_type": "code",
      "execution_count": null,
      "metadata": {
        "colab": {
          "base_uri": "https://localhost:8080/",
          "height": 820
        },
        "id": "hHyN2J80ObDY",
        "outputId": "96bffcdf-130f-46b1-82d2-4b24282bd713"
      },
      "outputs": [
        {
          "ename": "",
          "evalue": "",
          "output_type": "error",
          "traceback": [
            "\u001b[1;31mFailed to start the Kernel. \n",
            "\u001b[1;31mCannot read properties of undefined (reading 'path'). \n",
            "\u001b[1;31mView Jupyter <a href='command:jupyter.viewOutput'>log</a> for further details."
          ]
        }
      ],
      "source": [
        "cols = ['gender','work_type','Residence_type','smoking_status','ever_married','heart_disease','hypertension']\n",
        "plt.figure(figsize=(16,13))\n",
        "for i in range(len(cols)):\n",
        "    plt.subplot(3,3,i+1)\n",
        "\n",
        "    sns.countplot(x=df[cols[i]],hue = df['stroke'],palette = 'bone')"
      ]
    },
    {
      "cell_type": "code",
      "execution_count": null,
      "metadata": {
        "colab": {
          "base_uri": "https://localhost:8080/",
          "height": 457
        },
        "id": "OHHSkLJfOfBQ",
        "outputId": "674286bc-cc82-4e7b-a69a-16c14b099807"
      },
      "outputs": [
        {
          "ename": "",
          "evalue": "",
          "output_type": "error",
          "traceback": [
            "\u001b[1;31mFailed to start the Kernel. \n",
            "\u001b[1;31mCannot read properties of undefined (reading 'path'). \n",
            "\u001b[1;31mView Jupyter <a href='command:jupyter.viewOutput'>log</a> for further details."
          ]
        }
      ],
      "source": [
        "sns.displot(data = df , x='age',hue = 'stroke',kind = 'kde',palette = 'bone',height=4.5 )\n",
        "plt.show()"
      ]
    },
    {
      "cell_type": "code",
      "execution_count": null,
      "metadata": {
        "colab": {
          "base_uri": "https://localhost:8080/",
          "height": 542
        },
        "id": "nltMA5lSOiLp",
        "outputId": "fecb992f-4167-49dd-fdf4-344ed0f1c98e"
      },
      "outputs": [
        {
          "ename": "",
          "evalue": "",
          "output_type": "error",
          "traceback": [
            "\u001b[1;31mFailed to start the Kernel. \n",
            "\u001b[1;31mCannot read properties of undefined (reading 'path'). \n",
            "\u001b[1;31mView Jupyter <a href='command:jupyter.viewOutput'>log</a> for further details."
          ]
        }
      ],
      "source": [
        "stroke = dict(df['stroke'].value_counts())\n",
        "\n",
        "fig = px.pie(names = stroke.keys(),values = stroke.values(),title = 'Stroke Occurance',color_discrete_sequence=px.colors.sequential.Aggrnyl)\n",
        "fig.update_traces(textposition='inside', textinfo='percent+label')"
      ]
    },
    {
      "cell_type": "code",
      "execution_count": null,
      "metadata": {
        "id": "erHKgVxJOpOG"
      },
      "outputs": [
        {
          "ename": "",
          "evalue": "",
          "output_type": "error",
          "traceback": [
            "\u001b[1;31mFailed to start the Kernel. \n",
            "\u001b[1;31mCannot read properties of undefined (reading 'path'). \n",
            "\u001b[1;31mView Jupyter <a href='command:jupyter.viewOutput'>log</a> for further details."
          ]
        }
      ],
      "source": [
        "from sklearn.model_selection import train_test_split\n",
        "from sklearn.preprocessing import StandardScaler\n",
        "from sklearn.metrics import confusion_matrix , accuracy_score , classification_report\n",
        "\n",
        "from sklearn.neighbors import KNeighborsClassifier\n",
        "from sklearn.linear_model import LogisticRegression\n",
        "from sklearn.tree import DecisionTreeClassifier\n",
        "from sklearn.naive_bayes import GaussianNB\n",
        "from sklearn.svm import SVC\n",
        "from sklearn .ensemble import RandomForestClassifier\n",
        "from sklearn .ensemble import VotingClassifier , BaggingClassifier , StackingClassifier"
      ]
    },
    {
      "cell_type": "code",
      "execution_count": null,
      "metadata": {
        "colab": {
          "base_uri": "https://localhost:8080/"
        },
        "id": "K2Kk8t67OuI9",
        "outputId": "517665ae-df9d-4f52-c666-b7969ea96f43"
      },
      "outputs": [
        {
          "ename": "",
          "evalue": "",
          "output_type": "error",
          "traceback": [
            "\u001b[1;31mFailed to start the Kernel. \n",
            "\u001b[1;31mCannot read properties of undefined (reading 'path'). \n",
            "\u001b[1;31mView Jupyter <a href='command:jupyter.viewOutput'>log</a> for further details."
          ]
        }
      ],
      "source": [
        "df_0 = df[df.iloc[:,-1]==0]\n",
        "df_1 = df[df.iloc[:,-1]==1]\n",
        "\n",
        "df['stroke'].value_counts()"
      ]
    },
    {
      "cell_type": "code",
      "execution_count": null,
      "metadata": {
        "id": "KJ30gxLzOxWI"
      },
      "outputs": [
        {
          "ename": "",
          "evalue": "",
          "output_type": "error",
          "traceback": [
            "\u001b[1;31mFailed to start the Kernel. \n",
            "\u001b[1;31mCannot read properties of undefined (reading 'path'). \n",
            "\u001b[1;31mView Jupyter <a href='command:jupyter.viewOutput'>log</a> for further details."
          ]
        }
      ],
      "source": [
        "from sklearn.utils import resample\n",
        "\n",
        "df_1 = resample(df_1,replace=True , n_samples=df_0.shape[0] , random_state=123 )"
      ]
    },
    {
      "cell_type": "code",
      "execution_count": null,
      "metadata": {
        "colab": {
          "base_uri": "https://localhost:8080/",
          "height": 542
        },
        "id": "UkIHYmorOz9Z",
        "outputId": "02e102bc-8e8f-4972-d8d3-116f4a84bd73"
      },
      "outputs": [
        {
          "ename": "",
          "evalue": "",
          "output_type": "error",
          "traceback": [
            "\u001b[1;31mFailed to start the Kernel. \n",
            "\u001b[1;31mCannot read properties of undefined (reading 'path'). \n",
            "\u001b[1;31mView Jupyter <a href='command:jupyter.viewOutput'>log</a> for further details."
          ]
        }
      ],
      "source": [
        "#concatenate upsampled data\n",
        "df = np.concatenate((df_0,df_1))\n",
        "\n",
        "#create the balanced dataframe\n",
        "df = pd.DataFrame(df)\n",
        "df.columns = ['gender', 'age', 'hypertension', 'heart_disease', 'ever_married','work_type', 'Residence_type', 'avg_glucose_level', 'bmi','smoking_status', 'stroke']\n",
        "\n",
        "# visualize balanced data\n",
        "stroke = dict(df['stroke'].value_counts())\n",
        "fig = px.pie(names = ['False','True'],values = stroke.values(),title = 'Stroke Occurance',color_discrete_sequence=px.colors.sequential.Aggrnyl)\n",
        "fig.update_traces(textposition='inside', textinfo='percent+label')"
      ]
    },
    {
      "cell_type": "code",
      "execution_count": null,
      "metadata": {
        "id": "su1Ek3jMO7pg"
      },
      "outputs": [
        {
          "ename": "",
          "evalue": "",
          "output_type": "error",
          "traceback": [
            "\u001b[1;31mFailed to start the Kernel. \n",
            "\u001b[1;31mCannot read properties of undefined (reading 'path'). \n",
            "\u001b[1;31mView Jupyter <a href='command:jupyter.viewOutput'>log</a> for further details."
          ]
        }
      ],
      "source": [
        "df = pd.get_dummies(data =df , columns =  ['gender','ever_married','work_type','Residence_type','smoking_status'] ,drop_first=True )"
      ]
    },
    {
      "cell_type": "code",
      "execution_count": null,
      "metadata": {
        "colab": {
          "base_uri": "https://localhost:8080/",
          "height": 243
        },
        "id": "FemHscnSO89N",
        "outputId": "b0493f4e-04be-4449-fe87-13b8607ae9ae"
      },
      "outputs": [
        {
          "ename": "",
          "evalue": "",
          "output_type": "error",
          "traceback": [
            "\u001b[1;31mFailed to start the Kernel. \n",
            "\u001b[1;31mCannot read properties of undefined (reading 'path'). \n",
            "\u001b[1;31mView Jupyter <a href='command:jupyter.viewOutput'>log</a> for further details."
          ]
        }
      ],
      "source": [
        "df.head()"
      ]
    },
    {
      "cell_type": "code",
      "execution_count": null,
      "metadata": {
        "id": "BHpSPNRdPB9V"
      },
      "outputs": [
        {
          "ename": "",
          "evalue": "",
          "output_type": "error",
          "traceback": [
            "\u001b[1;31mFailed to start the Kernel. \n",
            "\u001b[1;31mCannot read properties of undefined (reading 'path'). \n",
            "\u001b[1;31mView Jupyter <a href='command:jupyter.viewOutput'>log</a> for further details."
          ]
        }
      ],
      "source": [
        "x = df.drop('stroke', axis = 1)\n",
        "y = pd.to_numeric( df['stroke'])"
      ]
    },
    {
      "cell_type": "code",
      "execution_count": null,
      "metadata": {
        "id": "7KWkVkHfPEa-"
      },
      "outputs": [
        {
          "ename": "",
          "evalue": "",
          "output_type": "error",
          "traceback": [
            "\u001b[1;31mFailed to start the Kernel. \n",
            "\u001b[1;31mCannot read properties of undefined (reading 'path'). \n",
            "\u001b[1;31mView Jupyter <a href='command:jupyter.viewOutput'>log</a> for further details."
          ]
        }
      ],
      "source": [
        "scaler = StandardScaler()\n",
        "\n",
        "x = scaler.fit_transform(x)"
      ]
    },
    {
      "cell_type": "code",
      "execution_count": null,
      "metadata": {
        "id": "ZouAT9b0PHJD"
      },
      "outputs": [
        {
          "ename": "",
          "evalue": "",
          "output_type": "error",
          "traceback": [
            "\u001b[1;31mFailed to start the Kernel. \n",
            "\u001b[1;31mCannot read properties of undefined (reading 'path'). \n",
            "\u001b[1;31mView Jupyter <a href='command:jupyter.viewOutput'>log</a> for further details."
          ]
        }
      ],
      "source": [
        "x_train , x_test , y_train , y_test = train_test_split(x,y,test_size = .20)"
      ]
    },
    {
      "cell_type": "code",
      "execution_count": null,
      "metadata": {
        "id": "JOqu28pX18f4"
      },
      "outputs": [
        {
          "ename": "",
          "evalue": "",
          "output_type": "error",
          "traceback": [
            "\u001b[1;31mFailed to start the Kernel. \n",
            "\u001b[1;31mCannot read properties of undefined (reading 'path'). \n",
            "\u001b[1;31mView Jupyter <a href='command:jupyter.viewOutput'>log</a> for further details."
          ]
        }
      ],
      "source": [
        "\n",
        "models = []\n",
        "models.append(['Logistic Regression',LogisticRegression(random_state=0)])\n",
        "models.append(['SVM',SVC(random_state=0)])\n",
        "models.append(['KNeigbors',KNeighborsClassifier()])\n",
        "models.append(['GaussianNB',GaussianNB()])\n",
        "models.append(['DecisionTree',DecisionTreeClassifier(random_state=0)])\n"
      ]
    },
    {
      "cell_type": "code",
      "execution_count": null,
      "metadata": {
        "colab": {
          "base_uri": "https://localhost:8080/",
          "height": 1000
        },
        "id": "sBJILqn02rcr",
        "outputId": "35ef53cf-f726-4c68-d3e7-f4ffc8b9795c"
      },
      "outputs": [
        {
          "ename": "",
          "evalue": "",
          "output_type": "error",
          "traceback": [
            "\u001b[1;31mFailed to start the Kernel. \n",
            "\u001b[1;31mCannot read properties of undefined (reading 'path'). \n",
            "\u001b[1;31mView Jupyter <a href='command:jupyter.viewOutput'>log</a> for further details."
          ]
        }
      ],
      "source": [
        "lst_1 = []\n",
        "for m in range(len(models)):\n",
        "    lst_2 = []\n",
        "    model = models[m][1]\n",
        "    model.fit(x_train,y_train)\n",
        "    y_pred = model.predict(x_test)\n",
        "    # y_prob = model.predict_proba(x_test)[:,1]\n",
        "    cm = confusion_matrix(y_test,y_pred)\n",
        "    print(models[m][0],':')\n",
        "    print('')\n",
        "    print(classification_report(y_test, y_pred))\n",
        "    print('Accuracy Score: ',accuracy_score(y_test, y_pred))\n",
        "    print('')\n",
        "    accuracies = cross_val_score(estimator= model, X = x_train,y = y_train, cv=10)\n",
        "    print('K-Fold Validation Mean Accuracy: {:.2f} %'.format(accuracies.mean()*100))\n",
        "    print('')\n",
        "    plt.figure(figsize = (5, 4))\n",
        "    sns.heatmap(cm, cmap = 'Blues', annot = True, fmt = 'd', linewidths = 5, cbar = False, annot_kws = {'fontsize': 15},\n",
        "            yticklabels = ['No stroke', 'Stroke'], xticklabels = ['Predicted no stroke', 'Predicted stroke'])\n",
        "    plt.yticks(rotation = 0)\n",
        "    plt.show()\n",
        "    print('-'*40)\n",
        "    print('')"
      ]
    },
    {
      "cell_type": "code",
      "execution_count": null,
      "metadata": {
        "colab": {
          "base_uri": "https://localhost:8080/",
          "height": 206
        },
        "id": "wsOjEeYYSIt_",
        "outputId": "80691bd3-bbcc-4b06-9077-b3d23c2802c2"
      },
      "outputs": [
        {
          "ename": "",
          "evalue": "",
          "output_type": "error",
          "traceback": [
            "\u001b[1;31mFailed to start the Kernel. \n",
            "\u001b[1;31mCannot read properties of undefined (reading 'path'). \n",
            "\u001b[1;31mView Jupyter <a href='command:jupyter.viewOutput'>log</a> for further details."
          ]
        }
      ],
      "source": [
        "from sklearn.model_selection import KFold #for K-fold cross validation\n",
        "from sklearn.model_selection import cross_val_score #score evaluation\n",
        "from sklearn.model_selection import cross_val_predict #prediction\n",
        "kfold = KFold(n_splits=20) # k=10, split the data into 10 equal parts\n",
        "cv_mean=[]\n",
        "accuracy=[]\n",
        "std=[]\n",
        "classifiers=['Svm','Logistic Regression','KNN','Decision Tree','Naive Bayes']\n",
        "models=[SVC(),LogisticRegression(),KNeighborsClassifier(n_neighbors=3),DecisionTreeClassifier(),GaussianNB()]\n",
        "for i in models:\n",
        "    model = i\n",
        "    cv_result = cross_val_score(model,x,y, cv = kfold,scoring = \"accuracy\")\n",
        "    cv_result=cv_result\n",
        "    cv_mean.append(cv_result.mean())\n",
        "    std.append(cv_result.std())\n",
        "    accuracy.append(cv_result)\n",
        "new_models_dataframe2=pd.DataFrame({'CV Mean':cv_mean,'Std':std},index=classifiers)\n",
        "new_models_dataframe2"
      ]
    },
    {
      "cell_type": "code",
      "execution_count": null,
      "metadata": {
        "colab": {
          "base_uri": "https://localhost:8080/",
          "height": 468
        },
        "id": "zSrDaaMeT_kf",
        "outputId": "50d73a72-57a5-440b-8d5c-5e24b9ce491a"
      },
      "outputs": [
        {
          "ename": "",
          "evalue": "",
          "output_type": "error",
          "traceback": [
            "\u001b[1;31mFailed to start the Kernel. \n",
            "\u001b[1;31mCannot read properties of undefined (reading 'path'). \n",
            "\u001b[1;31mView Jupyter <a href='command:jupyter.viewOutput'>log</a> for further details."
          ]
        }
      ],
      "source": [
        "new_models_dataframe2['CV Mean'].plot.barh(width=0.8)\n",
        "plt.title('Average CV Mean Accuracy')\n",
        "fig=plt.gcf()\n",
        "fig.set_size_inches(8,5)\n",
        "plt.show()"
      ]
    },
    {
      "cell_type": "code",
      "execution_count": null,
      "metadata": {
        "colab": {
          "base_uri": "https://localhost:8080/",
          "height": 161
        },
        "id": "NzFoPyUiv-WY",
        "outputId": "3171b871-65e0-49b0-f087-a2f3671ca21a"
      },
      "outputs": [
        {
          "ename": "",
          "evalue": "",
          "output_type": "error",
          "traceback": [
            "\u001b[1;31mFailed to start the Kernel. \n",
            "\u001b[1;31mCannot read properties of undefined (reading 'path'). \n",
            "\u001b[1;31mView Jupyter <a href='command:jupyter.viewOutput'>log</a> for further details."
          ]
        }
      ],
      "source": [
        "base_models = [('Logistic Regerssion',LogisticRegression()) , ('KNN',KNeighborsClassifier(n_neighbors=3))]\n",
        "stacking = StackingClassifier(\n",
        "    estimators = base_models ,\n",
        "    final_estimator = LogisticRegression(),\n",
        "    cv = 5\n",
        ")\n",
        "\n",
        "stacking.fit(x_train , y_train)"
      ]
    },
    {
      "cell_type": "code",
      "execution_count": null,
      "metadata": {
        "colab": {
          "base_uri": "https://localhost:8080/"
        },
        "id": "TKw3qo4OwLyC",
        "outputId": "a239febd-6379-4a6c-c795-e68760248f99"
      },
      "outputs": [
        {
          "ename": "",
          "evalue": "",
          "output_type": "error",
          "traceback": [
            "\u001b[1;31mFailed to start the Kernel. \n",
            "\u001b[1;31mCannot read properties of undefined (reading 'path'). \n",
            "\u001b[1;31mView Jupyter <a href='command:jupyter.viewOutput'>log</a> for further details."
          ]
        }
      ],
      "source": [
        "y_pred = stacking.predict(x_test)\n",
        "accuracy_score(y_test,y_pred)"
      ]
    },
    {
      "cell_type": "code",
      "execution_count": null,
      "metadata": {
        "colab": {
          "base_uri": "https://localhost:8080/",
          "height": 161
        },
        "id": "r5XiQPwlwen-",
        "outputId": "bc55786d-a5dc-46e2-cce4-70d8f4fde066"
      },
      "outputs": [
        {
          "ename": "",
          "evalue": "",
          "output_type": "error",
          "traceback": [
            "\u001b[1;31mFailed to start the Kernel. \n",
            "\u001b[1;31mCannot read properties of undefined (reading 'path'). \n",
            "\u001b[1;31mView Jupyter <a href='command:jupyter.viewOutput'>log</a> for further details."
          ]
        }
      ],
      "source": [
        "base_models = [('Logistic Regression',LogisticRegression()) , ('Decision Tree',DecisionTreeClassifier())]\n",
        "stacking = StackingClassifier(\n",
        "    estimators = base_models ,\n",
        "    final_estimator = LogisticRegression(),\n",
        "    cv = 5\n",
        ")\n",
        "\n",
        "stacking.fit(x_train , y_train)"
      ]
    },
    {
      "cell_type": "code",
      "execution_count": null,
      "metadata": {
        "colab": {
          "base_uri": "https://localhost:8080/"
        },
        "id": "U_uvy9N760Or",
        "outputId": "89128719-4543-42e7-a75a-8ccd6d9910a9"
      },
      "outputs": [
        {
          "ename": "",
          "evalue": "",
          "output_type": "error",
          "traceback": [
            "\u001b[1;31mFailed to start the Kernel. \n",
            "\u001b[1;31mCannot read properties of undefined (reading 'path'). \n",
            "\u001b[1;31mView Jupyter <a href='command:jupyter.viewOutput'>log</a> for further details."
          ]
        }
      ],
      "source": [
        "y_pred = stacking.predict(x_test)\n",
        "accuracy_score(y_test,y_pred)"
      ]
    },
    {
      "cell_type": "code",
      "execution_count": null,
      "metadata": {
        "colab": {
          "base_uri": "https://localhost:8080/",
          "height": 161
        },
        "id": "wlmfnieH64Qd",
        "outputId": "d12938ce-917f-43aa-d612-4cc3ceb8b5eb"
      },
      "outputs": [
        {
          "ename": "",
          "evalue": "",
          "output_type": "error",
          "traceback": [
            "\u001b[1;31mFailed to start the Kernel. \n",
            "\u001b[1;31mCannot read properties of undefined (reading 'path'). \n",
            "\u001b[1;31mView Jupyter <a href='command:jupyter.viewOutput'>log</a> for further details."
          ]
        }
      ],
      "source": [
        "base_models = [('Guassian Naive Bayes',GaussianNB()) , ('Decision Tree',DecisionTreeClassifier())]\n",
        "stacking = StackingClassifier(\n",
        "    estimators = base_models ,\n",
        "    final_estimator = LogisticRegression(),\n",
        "    cv = 5\n",
        ")\n",
        "\n",
        "stacking.fit(x_train , y_train)"
      ]
    },
    {
      "cell_type": "code",
      "execution_count": null,
      "metadata": {
        "colab": {
          "base_uri": "https://localhost:8080/"
        },
        "id": "3j1v_YDO7Jgj",
        "outputId": "056004d1-3b34-4b03-d8fc-a6aa64b4c339"
      },
      "outputs": [
        {
          "ename": "",
          "evalue": "",
          "output_type": "error",
          "traceback": [
            "\u001b[1;31mFailed to start the Kernel. \n",
            "\u001b[1;31mCannot read properties of undefined (reading 'path'). \n",
            "\u001b[1;31mView Jupyter <a href='command:jupyter.viewOutput'>log</a> for further details."
          ]
        }
      ],
      "source": [
        "y_pred = stacking.predict(x_test)\n",
        "accuracy_score(y_test,y_pred)"
      ]
    },
    {
      "cell_type": "code",
      "execution_count": null,
      "metadata": {
        "colab": {
          "base_uri": "https://localhost:8080/",
          "height": 161
        },
        "id": "AmxG8oyK7UTb",
        "outputId": "257440fa-9b06-4fcc-8afb-34248556e4f1"
      },
      "outputs": [
        {
          "ename": "",
          "evalue": "",
          "output_type": "error",
          "traceback": [
            "\u001b[1;31mFailed to start the Kernel. \n",
            "\u001b[1;31mCannot read properties of undefined (reading 'path'). \n",
            "\u001b[1;31mView Jupyter <a href='command:jupyter.viewOutput'>log</a> for further details."
          ]
        }
      ],
      "source": [
        "base_models = [('SVM',SVC()) , ('KNN',KNeighborsClassifier(n_neighbors=3))]\n",
        "stacking = StackingClassifier(\n",
        "    estimators = base_models ,\n",
        "    final_estimator = LogisticRegression(),\n",
        "    cv = 5\n",
        ")\n",
        "\n",
        "stacking.fit(x_train , y_train)"
      ]
    },
    {
      "cell_type": "code",
      "execution_count": null,
      "metadata": {
        "colab": {
          "base_uri": "https://localhost:8080/"
        },
        "id": "J02Nm2457ZVW",
        "outputId": "53affa99-711e-4366-fe8a-64df560512f5"
      },
      "outputs": [
        {
          "ename": "",
          "evalue": "",
          "output_type": "error",
          "traceback": [
            "\u001b[1;31mFailed to start the Kernel. \n",
            "\u001b[1;31mCannot read properties of undefined (reading 'path'). \n",
            "\u001b[1;31mView Jupyter <a href='command:jupyter.viewOutput'>log</a> for further details."
          ]
        }
      ],
      "source": [
        "y_pred = stacking.predict(x_test)\n",
        "accuracy_score(y_test,y_pred)"
      ]
    },
    {
      "cell_type": "code",
      "execution_count": null,
      "metadata": {
        "colab": {
          "base_uri": "https://localhost:8080/",
          "height": 161
        },
        "id": "2OScrd25jebM",
        "outputId": "6b1c141b-86ee-4875-a98d-6a47f7158b40"
      },
      "outputs": [
        {
          "ename": "",
          "evalue": "",
          "output_type": "error",
          "traceback": [
            "\u001b[1;31mFailed to start the Kernel. \n",
            "\u001b[1;31mCannot read properties of undefined (reading 'path'). \n",
            "\u001b[1;31mView Jupyter <a href='command:jupyter.viewOutput'>log</a> for further details."
          ]
        }
      ],
      "source": [
        "base_models = [('SVM',SVC()) , ('KNN',KNeighborsClassifier(n_neighbors=3)),('Guassian Naive Bayes',GaussianNB())]\n",
        "stacking = StackingClassifier(\n",
        "    estimators = base_models ,\n",
        "    final_estimator = LogisticRegression(),\n",
        "    cv = 5\n",
        ")\n",
        "\n",
        "stacking.fit(x_train , y_train)"
      ]
    },
    {
      "cell_type": "code",
      "execution_count": null,
      "metadata": {
        "colab": {
          "base_uri": "https://localhost:8080/"
        },
        "id": "fzadohPfjuq2",
        "outputId": "fb9f0c7f-fef5-44ee-cfb8-f9dbeff72b32"
      },
      "outputs": [
        {
          "ename": "",
          "evalue": "",
          "output_type": "error",
          "traceback": [
            "\u001b[1;31mFailed to start the Kernel. \n",
            "\u001b[1;31mCannot read properties of undefined (reading 'path'). \n",
            "\u001b[1;31mView Jupyter <a href='command:jupyter.viewOutput'>log</a> for further details."
          ]
        }
      ],
      "source": [
        "y_pred = stacking.predict(x_test)\n",
        "accuracy_score(y_test,y_pred)"
      ]
    },
    {
      "cell_type": "code",
      "execution_count": null,
      "metadata": {
        "colab": {
          "base_uri": "https://localhost:8080/",
          "height": 161
        },
        "id": "_eFKftUjj9pn",
        "outputId": "24cb660d-6e82-4bfc-c48e-33701b29bf38"
      },
      "outputs": [
        {
          "ename": "",
          "evalue": "",
          "output_type": "error",
          "traceback": [
            "\u001b[1;31mFailed to start the Kernel. \n",
            "\u001b[1;31mCannot read properties of undefined (reading 'path'). \n",
            "\u001b[1;31mView Jupyter <a href='command:jupyter.viewOutput'>log</a> for further details."
          ]
        }
      ],
      "source": [
        "base_models = [('SVM',SVC()) , ('Decision Tree',DecisionTreeClassifier()),('Guassian Naive Bayes',GaussianNB())]\n",
        "stacking = StackingClassifier(\n",
        "    estimators = base_models ,\n",
        "    final_estimator = LogisticRegression(),\n",
        "    cv = 5\n",
        ")\n",
        "\n",
        "stacking.fit(x_train , y_train)"
      ]
    },
    {
      "cell_type": "code",
      "execution_count": null,
      "metadata": {
        "colab": {
          "base_uri": "https://localhost:8080/"
        },
        "id": "Gd8WELggkFNR",
        "outputId": "e4c3a276-c351-4bfe-e738-420fbbafd7ed"
      },
      "outputs": [
        {
          "ename": "",
          "evalue": "",
          "output_type": "error",
          "traceback": [
            "\u001b[1;31mFailed to start the Kernel. \n",
            "\u001b[1;31mCannot read properties of undefined (reading 'path'). \n",
            "\u001b[1;31mView Jupyter <a href='command:jupyter.viewOutput'>log</a> for further details."
          ]
        }
      ],
      "source": [
        "y_pred = stacking.predict(x_test)\n",
        "accuracy_score(y_test,y_pred)\n"
      ]
    },
    {
      "cell_type": "code",
      "execution_count": null,
      "metadata": {
        "colab": {
          "base_uri": "https://localhost:8080/",
          "height": 161
        },
        "id": "PAyuuyPtkJEH",
        "outputId": "fca3e906-df40-426c-f5eb-e6471692e0a2"
      },
      "outputs": [
        {
          "ename": "",
          "evalue": "",
          "output_type": "error",
          "traceback": [
            "\u001b[1;31mFailed to start the Kernel. \n",
            "\u001b[1;31mCannot read properties of undefined (reading 'path'). \n",
            "\u001b[1;31mView Jupyter <a href='command:jupyter.viewOutput'>log</a> for further details."
          ]
        }
      ],
      "source": [
        "base_models = [('Logistic Regression',LogisticRegression())  , ('Decision Tree',DecisionTreeClassifier()),('Guassian Naive Bayes',GaussianNB())]\n",
        "stacking = StackingClassifier(\n",
        "    estimators = base_models ,\n",
        "    final_estimator = LogisticRegression(),\n",
        "    cv = 5\n",
        ")\n",
        "\n",
        "stacking.fit(x_train , y_train)"
      ]
    },
    {
      "cell_type": "code",
      "execution_count": null,
      "metadata": {
        "colab": {
          "base_uri": "https://localhost:8080/"
        },
        "id": "iBWaZxJYkQIR",
        "outputId": "480511a9-aa5d-4a38-dc0b-1ca866e276aa"
      },
      "outputs": [
        {
          "ename": "",
          "evalue": "",
          "output_type": "error",
          "traceback": [
            "\u001b[1;31mFailed to start the Kernel. \n",
            "\u001b[1;31mCannot read properties of undefined (reading 'path'). \n",
            "\u001b[1;31mView Jupyter <a href='command:jupyter.viewOutput'>log</a> for further details."
          ]
        }
      ],
      "source": [
        "y_pred = stacking.predict(x_test)\n",
        "accuracy_score(y_test,y_pred)\n"
      ]
    },
    {
      "cell_type": "code",
      "execution_count": null,
      "metadata": {
        "colab": {
          "base_uri": "https://localhost:8080/",
          "height": 161
        },
        "id": "_aHNuaOOkTOJ",
        "outputId": "fd18610f-c268-4a1f-c29a-b62893745e6d"
      },
      "outputs": [
        {
          "ename": "",
          "evalue": "",
          "output_type": "error",
          "traceback": [
            "\u001b[1;31mFailed to start the Kernel. \n",
            "\u001b[1;31mCannot read properties of undefined (reading 'path'). \n",
            "\u001b[1;31mView Jupyter <a href='command:jupyter.viewOutput'>log</a> for further details."
          ]
        }
      ],
      "source": [
        "base_models = [('Logistic Regression',LogisticRegression())  , ('Decision Tree',DecisionTreeClassifier()),('SVM',SVC())]\n",
        "stacking = StackingClassifier(\n",
        "    estimators = base_models ,\n",
        "    final_estimator = LogisticRegression(),\n",
        "    cv = 5\n",
        ")\n",
        "\n",
        "stacking.fit(x_train , y_train)"
      ]
    },
    {
      "cell_type": "code",
      "execution_count": null,
      "metadata": {
        "colab": {
          "base_uri": "https://localhost:8080/"
        },
        "id": "oy7s93zuk40O",
        "outputId": "b0c6d601-df82-4e01-ef32-7617e64df9fe"
      },
      "outputs": [
        {
          "ename": "",
          "evalue": "",
          "output_type": "error",
          "traceback": [
            "\u001b[1;31mFailed to start the Kernel. \n",
            "\u001b[1;31mCannot read properties of undefined (reading 'path'). \n",
            "\u001b[1;31mView Jupyter <a href='command:jupyter.viewOutput'>log</a> for further details."
          ]
        }
      ],
      "source": [
        "y_pred = stacking.predict(x_test)\n",
        "accuracy_score(y_test,y_pred)"
      ]
    },
    {
      "cell_type": "code",
      "execution_count": null,
      "metadata": {
        "colab": {
          "base_uri": "https://localhost:8080/",
          "height": 161
        },
        "id": "IbxJpnUSk4w1",
        "outputId": "942cef25-d674-49f6-8c1f-cba814cde267"
      },
      "outputs": [
        {
          "ename": "",
          "evalue": "",
          "output_type": "error",
          "traceback": [
            "\u001b[1;31mFailed to start the Kernel. \n",
            "\u001b[1;31mCannot read properties of undefined (reading 'path'). \n",
            "\u001b[1;31mView Jupyter <a href='command:jupyter.viewOutput'>log</a> for further details."
          ]
        }
      ],
      "source": [
        "base_models = [('Logistic Regression',LogisticRegression())  , ('Decision Tree',DecisionTreeClassifier()),('SVM',SVC()),('Guassian Naive Bayes',GaussianNB())]\n",
        "stacking = StackingClassifier(\n",
        "    estimators = base_models ,\n",
        "    final_estimator = LogisticRegression(),\n",
        "    cv = 5\n",
        ")\n",
        "\n",
        "stacking.fit(x_train , y_train)"
      ]
    },
    {
      "cell_type": "code",
      "execution_count": null,
      "metadata": {
        "colab": {
          "base_uri": "https://localhost:8080/"
        },
        "id": "0l4VQCq3mPJV",
        "outputId": "bc250ad3-c684-4a27-cbd9-b55a4f37489a"
      },
      "outputs": [
        {
          "ename": "",
          "evalue": "",
          "output_type": "error",
          "traceback": [
            "\u001b[1;31mFailed to start the Kernel. \n",
            "\u001b[1;31mCannot read properties of undefined (reading 'path'). \n",
            "\u001b[1;31mView Jupyter <a href='command:jupyter.viewOutput'>log</a> for further details."
          ]
        }
      ],
      "source": [
        "y_pred = stacking.predict(x_test)\n",
        "accuracy_score(y_test,y_pred)"
      ]
    },
    {
      "cell_type": "code",
      "execution_count": null,
      "metadata": {
        "colab": {
          "base_uri": "https://localhost:8080/",
          "height": 161
        },
        "id": "e9_b09UGmQ9Y",
        "outputId": "7800a791-ed1b-4858-86a8-304cd52761fa"
      },
      "outputs": [
        {
          "ename": "",
          "evalue": "",
          "output_type": "error",
          "traceback": [
            "\u001b[1;31mFailed to start the Kernel. \n",
            "\u001b[1;31mCannot read properties of undefined (reading 'path'). \n",
            "\u001b[1;31mView Jupyter <a href='command:jupyter.viewOutput'>log</a> for further details."
          ]
        }
      ],
      "source": [
        "base_models = [('SVM',SVC()),('Decision Tree',DecisionTreeClassifier()),('Logistic Regerssion',LogisticRegression()) , ('KNN',KNeighborsClassifier(n_neighbors=3))]\n",
        "EnsembleModel = StackingClassifier(\n",
        "    estimators = base_models ,\n",
        "    final_estimator = LogisticRegression(),\n",
        "    cv = 5\n",
        ")\n",
        "\n",
        "EnsembleModel.fit(x_train , y_train)"
      ]
    },
    {
      "cell_type": "code",
      "execution_count": null,
      "metadata": {
        "colab": {
          "base_uri": "https://localhost:8080/",
          "height": 658
        },
        "id": "85VXnOyZmW9u",
        "outputId": "9d433f05-692f-4cf5-cf2f-a396a71fac67"
      },
      "outputs": [
        {
          "ename": "",
          "evalue": "",
          "output_type": "error",
          "traceback": [
            "\u001b[1;31mFailed to start the Kernel. \n",
            "\u001b[1;31mCannot read properties of undefined (reading 'path'). \n",
            "\u001b[1;31mView Jupyter <a href='command:jupyter.viewOutput'>log</a> for further details."
          ]
        }
      ],
      "source": [
        "    y_pred = EnsembleModel.predict(x_test)\n",
        "    accuracy_score(y_test,y_pred)\n",
        "    cm = confusion_matrix(y_test,y_pred)\n",
        "    print('')\n",
        "    print(classification_report(y_test, y_pred))\n",
        "    # print(f'ROC AUC score: {roc_auc_score(y_test, y_prob)}')\n",
        "    # print('')\n",
        "    print('Accuracy Score: ',accuracy_score(y_test, y_pred))\n",
        "    print('')\n",
        "    accuracies = cross_val_score(estimator= model, X = x_train,y = y_train, cv=10)\n",
        "    print('K-Fold Validation Mean Accuracy: {:.2f} %'.format(accuracies.mean()*100))\n",
        "    print('')\n",
        "    plt.figure(figsize = (5, 4))\n",
        "    sns.heatmap(cm, cmap = 'Blues', annot = True, fmt = 'd', linewidths = 5, cbar = False, annot_kws = {'fontsize': 15},\n",
        "            yticklabels = ['No stroke', 'Stroke'], xticklabels = ['Predicted no stroke', 'Predicted stroke'])\n",
        "    plt.yticks(rotation = 0)\n",
        "    plt.show()\n",
        "    print('-'*40)\n",
        "    print('')"
      ]
    },
    {
      "cell_type": "code",
      "execution_count": null,
      "metadata": {
        "id": "ekvdZgsdSddG"
      },
      "outputs": [
        {
          "ename": "",
          "evalue": "",
          "output_type": "error",
          "traceback": [
            "\u001b[1;31mFailed to start the Kernel. \n",
            "\u001b[1;31mCannot read properties of undefined (reading 'path'). \n",
            "\u001b[1;31mView Jupyter <a href='command:jupyter.viewOutput'>log</a> for further details."
          ]
        }
      ],
      "source": [
        "import pickle\n",
        "with open('EnsembleModel_pickle.pkl','wb') as file:\n",
        "  pickle.dump(EnsembleModel,file)"
      ]
    },
    {
      "cell_type": "code",
      "execution_count": null,
      "metadata": {
        "colab": {
          "base_uri": "https://localhost:8080/",
          "height": 162
        },
        "id": "h38oaTQ9mYxm",
        "outputId": "d0eae6c3-7b3b-45a6-8293-03ce991c626e"
      },
      "outputs": [
        {
          "ename": "",
          "evalue": "",
          "output_type": "error",
          "traceback": [
            "\u001b[1;31mFailed to start the Kernel. \n",
            "\u001b[1;31mCannot read properties of undefined (reading 'path'). \n",
            "\u001b[1;31mView Jupyter <a href='command:jupyter.viewOutput'>log</a> for further details."
          ]
        }
      ],
      "source": [
        "base_models = [('SVM',SVC()),('Decision Tree',DecisionTreeClassifier()),('Logistic Regerssion',LogisticRegression()) , ('KNN',KNeighborsClassifier(n_neighbors=3)),('Guassian Naive Bayes',GaussianNB())]\n",
        "stacking = StackingClassifier(\n",
        "    estimators = base_models ,\n",
        "    final_estimator = DecisionTreeClassifier(),\n",
        "    cv = 5\n",
        ")\n",
        "\n",
        "stacking.fit(x_train , y_train)"
      ]
    },
    {
      "cell_type": "code",
      "execution_count": null,
      "metadata": {
        "colab": {
          "base_uri": "https://localhost:8080/",
          "height": 680
        },
        "id": "554NqdMumhoi",
        "outputId": "e07ef04f-e4a3-493a-8d77-1b50f74a44e9"
      },
      "outputs": [
        {
          "ename": "",
          "evalue": "",
          "output_type": "error",
          "traceback": [
            "\u001b[1;31mFailed to start the Kernel. \n",
            "\u001b[1;31mCannot read properties of undefined (reading 'path'). \n",
            "\u001b[1;31mView Jupyter <a href='command:jupyter.viewOutput'>log</a> for further details."
          ]
        }
      ],
      "source": [
        "    y_pred = stacking.predict(x_test)\n",
        "    accuracy_score(y_test,y_pred)\n",
        "    cm = confusion_matrix(y_test,y_pred)\n",
        "    print('')\n",
        "    print(classification_report(y_test, y_pred))\n",
        "    print(f'ROC AUC score: {roc_auc_score(y_test, y_prob)}')\n",
        "    print('')\n",
        "    print('Accuracy Score: ',accuracy_score(y_test, y_pred))\n",
        "    print('')\n",
        "    accuracies = cross_val_score(estimator= model, X = x_train,y = y_train, cv=10)\n",
        "    print('K-Fold Validation Mean Accuracy: {:.2f} %'.format(accuracies.mean()*100))\n",
        "    print('')\n",
        "    plt.figure(figsize = (5, 4))\n",
        "    sns.heatmap(cm, cmap = 'Blues', annot = True, fmt = 'd', linewidths = 5, cbar = False, annot_kws = {'fontsize': 15},\n",
        "            yticklabels = ['No stroke', 'Stroke'], xticklabels = ['Predicted no stroke', 'Predicted stroke'])\n",
        "    plt.yticks(rotation = 0)\n",
        "    plt.show()\n",
        "    print('-'*40)\n",
        "    print('')"
      ]
    },
    {
      "cell_type": "code",
      "execution_count": null,
      "metadata": {
        "id": "y4EvK-kfQ4Eo"
      },
      "outputs": [
        {
          "ename": "",
          "evalue": "",
          "output_type": "error",
          "traceback": [
            "\u001b[1;31mFailed to start the Kernel. \n",
            "\u001b[1;31mCannot read properties of undefined (reading 'path'). \n",
            "\u001b[1;31mView Jupyter <a href='command:jupyter.viewOutput'>log</a> for further details."
          ]
        }
      ],
      "source": []
    }
  ],
  "metadata": {
    "colab": {
      "provenance": []
    },
    "kernelspec": {
      "display_name": "Python 3",
      "name": "python3"
    },
    "language_info": {
      "name": "python",
      "version": "3.10.4"
    }
  },
  "nbformat": 4,
  "nbformat_minor": 0
}
